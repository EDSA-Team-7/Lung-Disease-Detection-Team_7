{
 "cells": [
  {
   "cell_type": "markdown",
   "id": "4d39d3d1",
   "metadata": {},
   "source": [
    "# Determining the best CADe (Computer Aided Detection) system for detecting lung disease among South African miners\n",
    "Explore Data Science Academy, 2022\n",
    "Team-7\n"
   ]
  },
  {
   "cell_type": "markdown",
   "id": "c2cd7ea7",
   "metadata": {},
   "source": [
    "#### 1.Overview\n",
    "#### 2. Loading Libraries & Dependencies\n",
    "#### 3. Getting the data\n",
    "#### 4. EDA\n",
    "#### 5. Implement Preprocess Functions\n",
    "#### 6. Preprocess all the data and save it\n",
    "#### 7. Check Point (come back to this notebook or have to restart the notebook, you can start from here. The preprocessed data has been saved to disk.)\n",
    "#### 8. Build the network\n",
    "#### 9. Train the Neural Network\n",
    "#### 10. Checkpoint\n",
    "#### 11. Test Model\n",
    "#### 12. Submit Project\n"
   ]
  },
  {
   "cell_type": "code",
   "execution_count": null,
   "id": "a8b07555",
   "metadata": {},
   "outputs": [],
   "source": []
  }
 ],
 "metadata": {
  "kernelspec": {
   "display_name": "Python 3 (ipykernel)",
   "language": "python",
   "name": "python3"
  },
  "language_info": {
   "codemirror_mode": {
    "name": "ipython",
    "version": 3
   },
   "file_extension": ".py",
   "mimetype": "text/x-python",
   "name": "python",
   "nbconvert_exporter": "python",
   "pygments_lexer": "ipython3",
   "version": "3.8.8"
  }
 },
 "nbformat": 4,
 "nbformat_minor": 5
}
